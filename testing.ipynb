{
 "cells": [
  {
   "cell_type": "code",
   "execution_count": 1,
   "metadata": {
    "collapsed": true
   },
   "outputs": [],
   "source": [
    "from gobblet_game import GobbletGame, PPOBot"
   ]
  },
  {
   "cell_type": "code",
   "execution_count": 2,
   "outputs": [],
   "source": [
    "game = GobbletGame()"
   ],
   "metadata": {
    "collapsed": false
   }
  },
  {
   "cell_type": "code",
   "execution_count": 3,
   "outputs": [],
   "source": [
    "player1 = PPOBot(1)\n",
    "player2 = PPOBot(2)"
   ],
   "metadata": {
    "collapsed": false
   }
  },
  {
   "cell_type": "code",
   "execution_count": 4,
   "outputs": [
    {
     "data": {
      "text/plain": "([[[], [], [], []], [[], [], [], []], [[], [], [], []], [[], [], [], []]],\n {1: [[P1S4, P1S3, P1S2, P1S1],\n   [P1S4, P1S3, P1S2, P1S1],\n   [P1S4, P1S3, P1S2, P1S1]],\n  2: [[P2S4, P2S3, P2S2, P2S1],\n   [P2S4, P2S3, P2S2, P2S1],\n   [P2S4, P2S3, P2S2, P2S1]]},\n 1)"
     },
     "execution_count": 4,
     "metadata": {},
     "output_type": "execute_result"
    }
   ],
   "source": [
    "game.board, game.players, game.current_player"
   ],
   "metadata": {
    "collapsed": false
   }
  },
  {
   "cell_type": "code",
   "execution_count": 5,
   "outputs": [
    {
     "data": {
      "text/plain": "{('stack', 0, 0, 0): -1000000,\n ('stack', 0, 0, 1): -1000000,\n ('stack', 0, 0, 2): -1000000,\n ('stack', 0, 0, 3): -1000000,\n ('stack', 0, 1, 0): -1000000,\n ('stack', 0, 1, 1): -1000000,\n ('stack', 0, 1, 2): -1000000,\n ('stack', 0, 1, 3): -1000000,\n ('stack', 0, 2, 0): -1000000,\n ('stack', 0, 2, 1): -1000000,\n ('stack', 0, 2, 2): -1000000,\n ('stack', 0, 2, 3): -1000000,\n ('stack', 0, 3, 0): -1000000,\n ('stack', 0, 3, 1): -1000000,\n ('stack', 0, 3, 2): -1000000,\n ('stack', 0, 3, 3): -1000000,\n ('stack', 1, 0, 0): -1000000,\n ('stack', 1, 0, 1): -1000000,\n ('stack', 1, 0, 2): -1000000,\n ('stack', 1, 0, 3): -1000000,\n ('stack', 1, 1, 0): -1000000,\n ('stack', 1, 1, 1): -1000000,\n ('stack', 1, 1, 2): -1000000,\n ('stack', 1, 1, 3): -1000000,\n ('stack', 1, 2, 0): -1000000,\n ('stack', 1, 2, 1): -1000000,\n ('stack', 1, 2, 2): -1000000,\n ('stack', 1, 2, 3): -1000000,\n ('stack', 1, 3, 0): -1000000,\n ('stack', 1, 3, 1): -1000000,\n ('stack', 1, 3, 2): -1000000,\n ('stack', 1, 3, 3): -1000000,\n ('stack', 2, 0, 0): -1000000,\n ('stack', 2, 0, 1): -1000000,\n ('stack', 2, 0, 2): -1000000,\n ('stack', 2, 0, 3): -1000000,\n ('stack', 2, 1, 0): -1000000,\n ('stack', 2, 1, 1): -1000000,\n ('stack', 2, 1, 2): -1000000,\n ('stack', 2, 1, 3): -1000000,\n ('stack', 2, 2, 0): -1000000,\n ('stack', 2, 2, 1): -1000000,\n ('stack', 2, 2, 2): -1000000,\n ('stack', 2, 2, 3): -1000000,\n ('stack', 2, 3, 0): -1000000,\n ('stack', 2, 3, 1): -1000000,\n ('stack', 2, 3, 2): -1000000,\n ('stack', 2, 3, 3): -1000000}"
     },
     "execution_count": 5,
     "metadata": {},
     "output_type": "execute_result"
    }
   ],
   "source": [
    "player1.get_rewards(game)"
   ],
   "metadata": {
    "collapsed": false
   }
  },
  {
   "cell_type": "code",
   "execution_count": null,
   "outputs": [],
   "source": [],
   "metadata": {
    "collapsed": false
   }
  }
 ],
 "metadata": {
  "kernelspec": {
   "display_name": "Python 3",
   "language": "python",
   "name": "python3"
  },
  "language_info": {
   "codemirror_mode": {
    "name": "ipython",
    "version": 2
   },
   "file_extension": ".py",
   "mimetype": "text/x-python",
   "name": "python",
   "nbconvert_exporter": "python",
   "pygments_lexer": "ipython2",
   "version": "2.7.6"
  }
 },
 "nbformat": 4,
 "nbformat_minor": 0
}
